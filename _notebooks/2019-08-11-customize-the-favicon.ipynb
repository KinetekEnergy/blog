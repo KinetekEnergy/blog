{
 "cells": [
  {
   "cell_type": "markdown",
   "metadata": {},
   "source": [
    "---\n",
    "title: Customize the Favicon\n",
    "author: cotes\n",
    "date: 2019-08-11 00:34:00 +0800\n",
    "categories: [Help and Tutorials]\n",
    "tags: [favicon]\n",
    "---"
   ]
  },
  {
   "cell_type": "markdown",
   "metadata": {},
   "source": [
    "The [favicons](https://www.favicon-generator.org/about/) of [**Chirpy**](https://github.com/cotes2020/jekyll-theme-chirpy/) are placed in the directory `assets/img/favicons/`{: .filepath}. You may want to replace them with your own. The following sections will guide you to create and replace the default favicons.\n",
    "\n",
    "## Generate the favicon\n",
    "\n",
    "Prepare a square image (PNG, JPG, or SVG) with a size of 512x512 or more, and then go to the online tool [**Real Favicon Generator**](https://realfavicongenerator.net/) and click the button <kbd>Select your Favicon image</kbd> to upload your image file.\n",
    "\n",
    "In the next step, the webpage will show all usage scenarios. You can keep the default options, scroll to the bottom of the page, and click the button <kbd>Generate your Favicons and HTML code</kbd> to generate the favicon.\n",
    "\n",
    "## Download & Replace\n",
    "\n",
    "Download the generated package, unzip and delete the following two from the extracted files:\n",
    "\n",
    "- `browserconfig.xml`{: .filepath}\n",
    "- `site.webmanifest`{: .filepath}\n",
    "\n",
    "And then copy the remaining image files (`.PNG`{: .filepath} and `.ICO`{: .filepath}) to cover the original files in the directory `assets/img/favicons/`{: .filepath} of your Jekyll site. If your Jekyll site doesn't have this directory yet, just create one.\n",
    "\n",
    "The following table will help you understand the changes to the favicon files:\n",
    "\n",
    "| File(s)             | From Online Tool                  | From Chirpy |\n",
    "|---------------------|:---------------------------------:|:-----------:|\n",
    "| `*.PNG`             | ✓                                 | ✗           |\n",
    "| `*.ICO`             | ✓                                 | ✗           |\n",
    "\n",
    "<!-- markdownlint-disable-next-line -->\n",
    ">  ✓ means keep, ✗ means delete.\n",
    "{: .prompt-info }\n",
    "\n",
    "The next time you build the site, the favicon will be replaced with a customized edition.\n"
   ]
  }
 ],
 "metadata": {
  "language_info": {
   "name": "python"
  }
 },
 "nbformat": 4,
 "nbformat_minor": 2
}
